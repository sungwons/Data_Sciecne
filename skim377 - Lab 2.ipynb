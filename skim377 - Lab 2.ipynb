{
 "cells": [
  {
   "cell_type": "markdown",
   "metadata": {},
   "source": [
    "# Module 2 Lab - Probability - Solution"
   ]
  },
  {
   "cell_type": "code",
   "execution_count": 1,
   "metadata": {
    "collapsed": true
   },
   "outputs": [],
   "source": [
    "% matplotlib inline"
   ]
  },
  {
   "cell_type": "markdown",
   "metadata": {},
   "source": [
    "This will make all the `matplotlib` images appear in the notebook."
   ]
  },
  {
   "cell_type": "markdown",
   "metadata": {},
   "source": [
    "## Directions\n",
    "\n",
    "**Failure to follow the directions will result in a \"0\"**\n",
    "\n",
    "The due dates for each are indicated in the Syllabus and the course calendar. If anything is unclear, please email EN605.448@gmail.com the official email for the course or ask questions in the Lab discussion area on Blackboard.\n",
    "\n",
    "The Labs also present technical material that augments the lectures and \"book\".  You should read through the entire lab at the start of each module.\n",
    "\n",
    "### General Instructions\n",
    "\n",
    "1.  You will be submitting your assignment to Blackboard. If there are no accompanying files, you should submit *only* your notebook and it should be named using *only* your JHED id: fsmith79.ipynb for example if your JHED id were \"fsmith79\". If the assignment requires additional files, you should name the *folder/directory* your JHED id and put all items in that folder/directory, ZIP it up (only ZIP...no other compression), and submit it to Blackboard.\n",
    "    \n",
    "    * do **not** use absolute paths in your notebooks. All resources should appear in the same directory as the rest of your assignments.\n",
    "    * the directory **must** be named your JHED id and **only** your JHED id.\n",
    "    \n",
    "2. Data Science is as much about what you write (communicating) as the code you execute (researching). In many places, you will be required to execute code and discuss both the purpose and the result. Additionally, Data Science is about reproducibility and transparency. This includes good communication with your team and possibly with yourself. Therefore, you must show **all** work.\n",
    "\n",
    "3. Avail yourself of the Markdown/Codecell nature of the notebook. If you don't know about Markdown, look it up. Your notebooks should not look like ransom notes. Don't make everything bold. Clearly indicate what question you are answering.\n",
    "\n",
    "4. Submit a cleanly executed notebook. It should say `In [1]` for the first codecell and increase by 1 throughout."
   ]
  },
  {
   "cell_type": "code",
   "execution_count": 2,
   "metadata": {
    "collapsed": true
   },
   "outputs": [],
   "source": [
    "import numpy as np\n",
    "import random as py_random\n",
    "import numpy.random as np_random\n",
    "import time\n",
    "import seaborn as sns\n",
    "import matplotlib.pyplot as plt\n",
    "\n",
    "sns.set(style=\"whitegrid\")"
   ]
  },
  {
   "cell_type": "markdown",
   "metadata": {},
   "source": [
    "## Manipulating and Interpreting Probability\n",
    "\n",
    "Given the following *joint probability distribution*, $P(A|B)$, for $A$ and $B$,\n",
    "\n",
    "\n",
    "|    | a1   | a2   |\n",
    "|----|------|------|\n",
    "| **b1** | 0.37 | 0.16 |\n",
    "| **b2** | 0.23 | ?    |\n",
    "\n",
    "Answer the following questions.\n",
    "\n",
    "**1\\. What is $P(A=a2, B=b2)$?**"
   ]
  },
  {
   "cell_type": "markdown",
   "metadata": {},
   "source": [
    "All probability distributions sum to 1. If we take 1 and subtract out the probabilities for the events we do know about, we'll find the probability for the one event we don't know: 1 - 0.37 - 0.16 - 0.23 = ?"
   ]
  },
  {
   "cell_type": "code",
   "execution_count": 3,
   "metadata": {},
   "outputs": [
    {
     "name": "stdout",
     "output_type": "stream",
     "text": [
      "the probability of (a2, b2) is 0.24\n"
     ]
    }
   ],
   "source": [
    "print( \"the probability of (a2, b2) is %.2f\" % (1 - 0.37 - 0.16 - 0.23))"
   ]
  },
  {
   "cell_type": "markdown",
   "metadata": {},
   "source": [
    "**2\\. If I observe events from this probability distribution, what is the probability of seeing (a1, b1) then (a2, b2)?**"
   ]
  },
  {
   "cell_type": "markdown",
   "metadata": {},
   "source": [
    "Note that the two observations are independent. Remember the definition of independence: $P((a2,b2)|(a1,b1) = P((a2,b2))$ which means that observing the first event does not give me any additional information about the probability of the second event (it does not change how uncertain I am about (a2, b2) happening by modifying the base or *prior* probability).\n",
    "\n",
    "This does not mean, however, that A and B are independent; we're talking about the *joint* event and the *joint* probability.\n",
    "\n",
    "The probability of two independent events is the productive of their individual probabilities:"
   ]
  },
  {
   "cell_type": "code",
   "execution_count": 4,
   "metadata": {},
   "outputs": [
    {
     "name": "stdout",
     "output_type": "stream",
     "text": [
      "the probability of (a1, b1) then (a2, b2) is 0.09\n"
     ]
    }
   ],
   "source": [
    "print( \"the probability of (a1, b1) then (a2, b2) is %.2f\" % (0.37 * 0.24))"
   ]
  },
  {
   "cell_type": "markdown",
   "metadata": {},
   "source": [
    "**3\\. Calculate the marginal probability distribution, $P(A)$.**"
   ]
  },
  {
   "cell_type": "markdown",
   "metadata": {},
   "source": [
    "There are any number of ways of doing this but we need to figure out some way to represent discrete probability distributions as data structures. I propose we represent our probility distribution(s) as a set of nested Dicts:"
   ]
  },
  {
   "cell_type": "code",
   "execution_count": 5,
   "metadata": {
    "collapsed": true
   },
   "outputs": [],
   "source": [
    "p = {\"a1\": {\"b1\": 0.37, \"b2\": 0.23}, \"a2\": {\"b1\": 0.16, \"b2\": 0.24}}"
   ]
  },
  {
   "cell_type": "markdown",
   "metadata": {},
   "source": [
    "$P(A)$ is basically marginalizing B *out*. We can do this by summing the individual elements:"
   ]
  },
  {
   "cell_type": "code",
   "execution_count": 6,
   "metadata": {},
   "outputs": [
    {
     "name": "stdout",
     "output_type": "stream",
     "text": [
      "P(a1) = 0.60\n",
      "P(a2) = 0.40\n"
     ]
    }
   ],
   "source": [
    "print( \"P(a1) = %.2f\" % (p[\"a1\"][\"b1\"] + p[\"a1\"][\"b2\"]))\n",
    "print( \"P(a2) = %.2f\" % (p[\"a2\"][\"b1\"] + p[\"a2\"][\"b2\"]))"
   ]
  },
  {
   "cell_type": "markdown",
   "metadata": {},
   "source": [
    "**4\\. Calculate the marginal probability distribution, $P(B)$.**"
   ]
  },
  {
   "cell_type": "markdown",
   "metadata": {},
   "source": [
    "We can do the same thing we just did except we will marginalize out A:"
   ]
  },
  {
   "cell_type": "code",
   "execution_count": 7,
   "metadata": {},
   "outputs": [
    {
     "name": "stdout",
     "output_type": "stream",
     "text": [
      "P(b1) = 0.53\n",
      "P(b2) = 0.47\n"
     ]
    }
   ],
   "source": [
    "print( \"P(b1) = %.2f\" % (p[\"a1\"][\"b1\"] + p[\"a2\"][\"b1\"]))\n",
    "print( \"P(b2) = %.2f\" % (p[\"a1\"][\"b2\"] + p[\"a2\"][\"b2\"]))"
   ]
  },
  {
   "cell_type": "markdown",
   "metadata": {},
   "source": [
    "**5\\. Calculate the conditional probability distribution, $P(A|B)$.**"
   ]
  },
  {
   "cell_type": "markdown",
   "metadata": {},
   "source": [
    "The calculation of a conditional probability for A creates a new probability distribution for each event in B. That is, instead of wanting to know $P(a1, b1)$ or $P(a2, b1)$, we want to know $P(a1|b1)$ and $P(a2|b1)$. Remember, conditional probability expresses the idea \"if we know that b1 happened, how does this change the probabilities of a1, a2, etc.\". We then do this for each possible value of B.\n",
    "\n",
    "The formula for conditional probability is:\n",
    "\n",
    "$$P(A|B) = \\frac{P(A, B)}{P(B)}$$"
   ]
  },
  {
   "cell_type": "code",
   "execution_count": 8,
   "metadata": {},
   "outputs": [
    {
     "name": "stdout",
     "output_type": "stream",
     "text": [
      "P(a1|b1) = 0.70\n",
      "P(a2|b1) = 0.30\n",
      "-----\n",
      "P(a1|b2) = 0.49\n",
      "P(a2|b2) = 0.51\n"
     ]
    }
   ],
   "source": [
    "print( \"P(a1|b1) = %.2f\" % ((p[\"a1\"][\"b1\"])/(p[\"a1\"][\"b1\"] + p[\"a2\"][\"b1\"])))\n",
    "print( \"P(a2|b1) = %.2f\" % ((p[\"a2\"][\"b1\"])/(p[\"a1\"][\"b1\"] + p[\"a2\"][\"b1\"])))\n",
    "print( \"-----\")\n",
    "print( \"P(a1|b2) = %.2f\" % ((p[\"a1\"][\"b2\"])/(p[\"a1\"][\"b2\"] + p[\"a2\"][\"b2\"])))\n",
    "print( \"P(a2|b2) = %.2f\" % ((p[\"a2\"][\"b2\"])/(p[\"a1\"][\"b2\"] + p[\"a2\"][\"b2\"])))"
   ]
  },
  {
   "cell_type": "markdown",
   "metadata": {},
   "source": [
    "**6\\. Calculate the conditional probability distribution, $P(B|A)$.**"
   ]
  },
  {
   "cell_type": "markdown",
   "metadata": {},
   "source": [
    "Basically the same principle applies here as well:"
   ]
  },
  {
   "cell_type": "code",
   "execution_count": 9,
   "metadata": {},
   "outputs": [
    {
     "name": "stdout",
     "output_type": "stream",
     "text": [
      "P(b1|a1) = 0.62\n",
      "P(b2|a1) = 0.38\n",
      "-----\n",
      "P(b1|a2) = 0.40\n",
      "P(b2|a2) = 0.60\n"
     ]
    }
   ],
   "source": [
    "print( \"P(b1|a1) = %.2f\" % ((p[\"a1\"][\"b1\"])/(p[\"a1\"][\"b1\"] + p[\"a1\"][\"b2\"])))\n",
    "print( \"P(b2|a1) = %.2f\" % ((p[\"a1\"][\"b2\"])/(p[\"a1\"][\"b1\"] + p[\"a1\"][\"b2\"])))\n",
    "print( \"-----\")\n",
    "print( \"P(b1|a2) = %.2f\" % ((p[\"a2\"][\"b1\"])/(p[\"a2\"][\"b1\"] + p[\"a2\"][\"b2\"])))\n",
    "print( \"P(b2|a2) = %.2f\" % ((p[\"a2\"][\"b2\"])/(p[\"a2\"][\"b1\"] + p[\"a2\"][\"b2\"])))"
   ]
  },
  {
   "cell_type": "markdown",
   "metadata": {},
   "source": [
    "**7\\. Does $P(A|B) = P(B|A)$? What do we call the belief that these are always equal?**"
   ]
  },
  {
   "cell_type": "markdown",
   "metadata": {},
   "source": [
    "This question can potentially be a bit confusing because if you look at the *table* that each of these represents, they don't exactly line up. What is we are really asking is if $P(a1|b1)$ is equal to $P(b1|a1)$, etc.\n",
    "\n",
    "By looking at the two sets of results, we can see that they are definitely not equal. P(a1|b1) = 0.62 and P(b1|a1) = 0.70, P(a1|b2) = 0.4 and P(b2|a1) = 0.3.\n",
    "\n",
    "The belief that these are always equal is the **inverse probability fallacy**."
   ]
  },
  {
   "cell_type": "markdown",
   "metadata": {},
   "source": [
    "**8\\. Does $P(A) = P(A|B)$? What does that mean about the independence of $A$ and $B$?**"
   ]
  },
  {
   "cell_type": "markdown",
   "metadata": {},
   "source": [
    "No, they do not. P(a1) = 0.53 and P(a1|b1) = 0.62. This means that A and B are not independent. \n",
    "\n",
    "You can test your understanding by creating a joint probability P(A, B) where they are independent. Start with A and B as two flips of a fair coin and then try to come up with a more interesting example."
   ]
  },
  {
   "cell_type": "markdown",
   "metadata": {},
   "source": [
    "**9\\. Using $P(A)$, $P(B|A)$, $P(B)$ from above, calculate,**\n",
    "\n",
    "$P(A|B) = \\frac{P(B|A)P(A)}{P(B)}$\n",
    "\n",
    "Does it match your previous calculation for $P(A|B)$?"
   ]
  },
  {
   "cell_type": "markdown",
   "metadata": {},
   "source": [
    "We only really need to do one of these:\n",
    "\n",
    "$$P(a1|b1) = \\frac{P(b1|a1)P(a1)}{P(b1)}$$"
   ]
  },
  {
   "cell_type": "code",
   "execution_count": 10,
   "metadata": {},
   "outputs": [
    {
     "name": "stdout",
     "output_type": "stream",
     "text": [
      "P(a1|b1) = 0.70\n"
     ]
    }
   ],
   "source": [
    "print( \"P(a1|b1) = %.2f\" % (((p[\"a1\"][\"b1\"])/(p[\"a1\"][\"b1\"] + p[\"a1\"][\"b2\"])*(p[\"a1\"][\"b1\"] + p[\"a1\"][\"b2\"]))/(p[\"a1\"][\"b1\"] + p[\"a2\"][\"b1\"])))"
   ]
  },
  {
   "cell_type": "markdown",
   "metadata": {},
   "source": [
    "which is the same. It isn't magic. If you go through the code above, you'll see that everything pretty much well cancels out as you'd expect."
   ]
  },
  {
   "cell_type": "markdown",
   "metadata": {},
   "source": [
    "**10\\. If we let A = H (some condition, characteristic, hypothesis) and B = D (some data, evidence, a test result), then how do we interpret each of the following: $P(H)$, $P(D)$, $P(H|D)$, $P(D|H)$, $P(H, D)$?**"
   ]
  },
  {
   "cell_type": "markdown",
   "metadata": {},
   "source": [
    "$P(H)$ - prior distribution (prior probability of the hypothesis)\n",
    "\n",
    "$P(D)$ - probability of the data\n",
    "\n",
    "$P(H|D)$ - posterior distribution (posterior probability of the hypothesis)\n",
    "\n",
    "$P(D|H)$ - likelihood (probability of the data given the hypothesis)"
   ]
  },
  {
   "cell_type": "markdown",
   "metadata": {},
   "source": [
    "## Generating Samples from Probability Distributions\n",
    "\n",
    "A key component of the Labs throughout the semester will be the generation of synthetic data with particular properties. The next questions introduce you to this technique in the form of random numbers and mathematical distributions.\n",
    "\n",
    "### Reproducible Random Numbers\n",
    "\n",
    "Before you begin working with random numbers in any situation, in Data Science, as opposed to Machine Learning, it is desirable to set the random seed and record it. We do this for several reasons:\n",
    "\n",
    "1. For reproducible research, we need to record the random seed that was used to generate our results.\n",
    "2. For sharing with others, if our text said there was some result, and the user re-runs the notebook, we want to get the same results.\n",
    "3. If we are creating a model, and we accidentally generate the best model ever, we want to be able to build it again.\n",
    "\n",
    "Although Python has *some* random number generators, we will be using `NumPy`'s random number generators throughout the course because it has a broader range of distributions.\n",
    "\n",
    "```\n",
    "np.random.seed(N) # Numpy library\n",
    "```\n",
    "\n",
    "You have several options for setting the seed:\n",
    "\n",
    "* Just come up with a number, some integer, like: 27192759.\n",
    "* Run:\n",
    "\n",
    "```\n",
    "    int( time.time())\n",
    "```\n",
    "\n",
    "to print out a value you can use in either case. Do not just feed `int( time.time())` into the seed function. The whole point is to make the seed a constant. Numpy has ample documentation on its [random module](https://docs.scipy.org/doc/numpy/reference/routines.random.html).\n",
    "\n",
    "Here's an example:"
   ]
  },
  {
   "cell_type": "code",
   "execution_count": 11,
   "metadata": {},
   "outputs": [
    {
     "data": {
      "text/plain": [
       "1505226285"
      ]
     },
     "execution_count": 11,
     "metadata": {},
     "output_type": "execute_result"
    }
   ],
   "source": [
    "int( time.time())"
   ]
  },
  {
   "cell_type": "code",
   "execution_count": 12,
   "metadata": {
    "collapsed": true
   },
   "outputs": [],
   "source": [
    "np.random.seed([1482004723]) # note the use of a number iside a list."
   ]
  },
  {
   "cell_type": "markdown",
   "metadata": {},
   "source": [
    "Note that the two above don't match. They did the very first time I ran the notebook but they don't now because I've had to re-run the notebook several times. This is, in fact, the point. In fact, in general, once you execute `int( time.time())` to get your seed, you can just delete the cell or just make up a seed. I like to use my birthday: YYYYMMDD and variations of other dates."
   ]
  },
  {
   "cell_type": "code",
   "execution_count": 13,
   "metadata": {},
   "outputs": [
    {
     "data": {
      "text/plain": [
       "array([ 0.37677145,  0.43518392,  0.71651458,  0.54653675,  0.98604431,\n",
       "        0.45821284,  0.27999283,  0.03121421,  0.14613549,  0.10168693])"
      ]
     },
     "execution_count": 13,
     "metadata": {},
     "output_type": "execute_result"
    }
   ],
   "source": [
    "np.random.rand(10)\n",
    "# do some stuff"
   ]
  },
  {
   "cell_type": "code",
   "execution_count": 14,
   "metadata": {},
   "outputs": [
    {
     "data": {
      "text/plain": [
       "array([ 0.38032926,  0.60617514,  0.63969352,  0.52414294,  0.53436926,\n",
       "        0.05148294,  0.75952124,  0.44076097,  0.76423589,  0.52040212])"
      ]
     },
     "execution_count": 14,
     "metadata": {},
     "output_type": "execute_result"
    }
   ],
   "source": [
    "np.random.rand( 10)\n",
    "# do more stuff"
   ]
  },
  {
   "cell_type": "code",
   "execution_count": 15,
   "metadata": {
    "collapsed": true
   },
   "outputs": [],
   "source": [
    "np.random.seed([1482004723])"
   ]
  },
  {
   "cell_type": "code",
   "execution_count": 16,
   "metadata": {},
   "outputs": [
    {
     "data": {
      "text/plain": [
       "array([ 0.37677145,  0.43518392,  0.71651458,  0.54653675,  0.98604431,\n",
       "        0.45821284,  0.27999283,  0.03121421,  0.14613549,  0.10168693])"
      ]
     },
     "execution_count": 16,
     "metadata": {},
     "output_type": "execute_result"
    }
   ],
   "source": [
    "np.random.rand(10)\n",
    "# do some stuff"
   ]
  },
  {
   "cell_type": "markdown",
   "metadata": {},
   "source": [
    "There are a few things to note here:\n",
    "\n",
    "1. We asked what time it was to get the seed but we did not put it directionly into `np.random.seed()`.\n",
    "2. The argument to `np.random.seed()` must be a List.\n",
    "3. We set the seed then got 10 random numbers by calling `np.random.rand(10)`. In practice, this might just be all we want to do (get numbers from the distribution) or we may want to do more calculations.\n",
    "4. We get 10 more random numbers by calling `np.random.rand( 10)`. Notice that these are not the same as the first call. You can think of `random` *in general* as generating a stream of random numbers according to some distribution which we just tap into. We get the first 10, the next 10, the next 25, etc.\n",
    "5. We set the random seed to the same random seed as before.\n",
    "6. We got the same first 10 random numbers. This demonstrates that setting the seed \"resets\" the stream of random numbers. This is what we want.\n",
    "\n",
    "In general, before answering each question, we are going to want to set the random seed to some value. Do not do it inside a function that is getting called over and over again, set it at the start of the experiment.\n",
    "\n",
    "We will talk a lot more about visualization later but for right now I'm going to introduce the *histogram*. A histogram is a means for visualizing the probability distribution of a continuous variable.\n",
    "\n",
    "Consider the following problem. I want to generate 100 data points on the range (-5.0, 10.0) that are from a *uniform distribution*. How do I do this?\n",
    "\n",
    "1. I set the random seed.\n",
    "2. I look through the documentation to see if there is a function that will generate the data directly or via a *transformation*.\n",
    "3. I then visualize the data I generated.\n",
    "\n",
    "Let's do that:"
   ]
  },
  {
   "cell_type": "code",
   "execution_count": 17,
   "metadata": {},
   "outputs": [
    {
     "data": {
      "text/plain": [
       "1505226285"
      ]
     },
     "execution_count": 17,
     "metadata": {},
     "output_type": "execute_result"
    }
   ],
   "source": [
    "int( time.time())"
   ]
  },
  {
   "cell_type": "code",
   "execution_count": 18,
   "metadata": {
    "collapsed": true
   },
   "outputs": [],
   "source": [
    "np.random.seed([1482003424])"
   ]
  },
  {
   "cell_type": "markdown",
   "metadata": {},
   "source": [
    "Looking at the documentation, there is a function `uniform` that takes *low*, *high* and *size* arguments. Let's do it that way first. I'm going to arbitrarily look at the first 20 values just to see what I got:"
   ]
  },
  {
   "cell_type": "code",
   "execution_count": 19,
   "metadata": {},
   "outputs": [
    {
     "name": "stdout",
     "output_type": "stream",
     "text": [
      "[ 6.42438573 -3.22910746 -1.51821304 -3.87133369 -0.81487703  6.3629005\n",
      "  8.50156041  4.86376343 -2.84230612  2.52226997  9.06166161  1.64070685\n",
      " -2.2239334   5.66352015  2.11413729 -3.75793272  3.8597046   5.83393762\n",
      " -3.78916267 -3.62696669]\n"
     ]
    }
   ],
   "source": [
    "xs = np.random.uniform(-5.0, 10.0, 100)\n",
    "print( xs[0:20])"
   ]
  },
  {
   "cell_type": "markdown",
   "metadata": {},
   "source": [
    "Then I'm going to plot the data. I'm not going to talk about plotting at all until a future model so this is the bare basic code you need to know:"
   ]
  },
  {
   "cell_type": "code",
   "execution_count": 20,
   "metadata": {},
   "outputs": [
    {
     "data": {
      "image/png": "[encoded data removed]",
      "text/plain": [
       "<matplotlib.figure.Figure at 0x114e26208>"
      ]
     },
     "metadata": {},
     "output_type": "display_data"
    }
   ],
   "source": [
    "figure = plt.figure(figsize=(10, 6)) # first element is width, second is height.\n",
    "\n",
    "axes = figure.add_subplot(1, 1, 1)\n",
    "\n",
    "axes.hist( xs, normed=True)\n",
    "axes.set_ylabel( \"Density\")\n",
    "axes.set_xlabel( \"X\")\n",
    "axes.set_title( \"Density for Uniform Distribution (-5.0, 10.0)\")\n",
    "\n",
    "plt.show()"
   ]
  },
  {
   "cell_type": "markdown",
   "metadata": {},
   "source": [
    "I'm also going to explore the data a little bit. I used the parameters *low* and *high* to generate the data. What values did I get back?"
   ]
  },
  {
   "cell_type": "code",
   "execution_count": 21,
   "metadata": {},
   "outputs": [
    {
     "name": "stdout",
     "output_type": "stream",
     "text": [
      "low = -4.94870493414\n",
      "high= 9.9242382066\n"
     ]
    }
   ],
   "source": [
    "print( \"low =\", min( xs))\n",
    "print( \"high=\", max( xs))"
   ]
  },
  {
   "cell_type": "markdown",
   "metadata": {},
   "source": [
    "Now, what if `uniform` hadn't existed? I would have had to have used `random` which generates uniformly distributed random numbers on the range (0, 1) and projected it into the range (-5.0, 10.0):"
   ]
  },
  {
   "cell_type": "code",
   "execution_count": 22,
   "metadata": {},
   "outputs": [
    {
     "name": "stdout",
     "output_type": "stream",
     "text": [
      "[ 6.42438573 -3.22910746 -1.51821304 -3.87133369 -0.81487703  6.3629005\n",
      "  8.50156041  4.86376343 -2.84230612  2.52226997  9.06166161  1.64070685\n",
      " -2.2239334   5.66352015  2.11413729 -3.75793272  3.8597046   5.83393762\n",
      " -3.78916267 -3.62696669]\n",
      "low = -4.94870493414\n",
      "high= 9.9242382066\n"
     ]
    }
   ],
   "source": [
    "np.random.seed([1482003424])\n",
    "xs = np.random.random(100) * 15.0 - 5.0\n",
    "print( xs[0:20])\n",
    "print( \"low =\", min( xs))\n",
    "print( \"high=\", max( xs))"
   ]
  },
  {
   "cell_type": "markdown",
   "metadata": {},
   "source": [
    "Note that this is a *new* experiment so I set the random seed. However, I specifically wanted to see if the two different methods generated the same random numbers (they do) so I set it the same random seed. In general, each experiment will have a different random seed."
   ]
  },
  {
   "cell_type": "markdown",
   "metadata": {},
   "source": [
    "### Exercises\n",
    "\n",
    "Follow the directions for Lab Discussions and Questions.\n",
    "\n",
    "**1\\. A  coin has a probability of heads, $\\theta=0.67$. Simulate 25 events (coin tosses) from this Bernoulli Distribution (25 Bernoulli *Trials*).**\n",
    "\n",
    "1. Set the random seed.\n",
    "2. Generate the samples, `x`. (There may be multiple ways to do this).\n",
    "3. Calculate the average `np.mean( x)` to get the estimate of $\\theta$ (it's a Python trick). How close are you?"
   ]
  },
  {
   "cell_type": "markdown",
   "metadata": {},
   "source": [
    "** Step 1\\.** Set the seed:"
   ]
  },
  {
   "cell_type": "code",
   "execution_count": 23,
   "metadata": {
    "collapsed": true
   },
   "outputs": [],
   "source": [
    "np.random.seed([125]) # made this up."
   ]
  },
  {
   "cell_type": "markdown",
   "metadata": {},
   "source": [
    "** Step 2\\.** Calculate the data. We can use $\\theta$ as a threshold value against a uniformly distributed variable on the range (0, 1) to simulate a Bernoulli trial. We indicate 1 for success and 0 for failure. This is a \"roll your own\" method using a *List Comprehension*."
   ]
  },
  {
   "cell_type": "code",
   "execution_count": 24,
   "metadata": {
    "collapsed": true
   },
   "outputs": [],
   "source": [
    "theta = 0.67\n",
    "xs = [1 if np.random.random() < theta else 0 for _ in range( 25)]"
   ]
  },
  {
   "cell_type": "markdown",
   "metadata": {},
   "source": [
    "**Step 3\\.** By taking the average, we calculate the proportion of successes, $\\hat{\\theta}$, which we can compare to the $\\theta$ we started with:"
   ]
  },
  {
   "cell_type": "code",
   "execution_count": 25,
   "metadata": {},
   "outputs": [
    {
     "name": "stdout",
     "output_type": "stream",
     "text": [
      "mean = 0.72\n",
      "mean/theta = 1.07462686567\n"
     ]
    }
   ],
   "source": [
    "mean = np.mean( xs)\n",
    "print( \"mean =\", mean)\n",
    "print( \"mean/theta =\", mean/theta)"
   ]
  },
  {
   "cell_type": "markdown",
   "metadata": {},
   "source": [
    "Not very close (0.72/0.67) is more than 7% higher than it \"really\" was. We'll see in the next Module what this means and how to bound our estimates."
   ]
  },
  {
   "cell_type": "markdown",
   "metadata": {},
   "source": [
    "The **mean** is a measure of central tendency (one of several possible \"averages\" you can calculate including the median and mode). Given a List of values (or numpy array), `np.mean()` will calculate the mean of that List.\n",
    "\n",
    "The **variance** measures the dispersion of the values. A high variance is high dispersion and low variance is low dispersion. Thinking about variance is often problematic because the units are the *square* of whatever units the values are in. For example, if the values (data) are in \"feet\" then variance is \"square feet\". The square root of the variance is the **standard deviation**. The standard deviation has the same units as the mean.\n",
    "\n",
    "Even though the units are the same, it's still often difficult to conceive of how much deviation an observed standard deviation actually is. The **coefficient of variation**, $v$, is a dimensionless measure of the variability of a distribution. It allows you to compare how disperse two or more distributions might be, even if their means and **standard deviation**s are in completely different units. \n",
    "\n",
    "The definition is:\n",
    "\n",
    "$v = |\\frac{\\sigma}{\\mu}|$\n",
    "\n",
    "Basically, it's just the standard deviation as a percent of the mean. It is undefined if the mean is zero. With a little algebra, you can also calculate a desired *standard deviation* given a coefficient of variation. That is, if you have a mean of 12.1 and want about 2.3% variability, you can reverse engineer the standard deviation that would be associated with it. This is important because the random functions for the normal distribution take the mean and standard deviation...not the coefficient of variation. **Do not confuse the coefficient of variation and the variance...they are completely different things.**\n",
    "\n",
    "Using the appropriate Numpy libraries and functions (or lecture materials),"
   ]
  },
  {
   "cell_type": "markdown",
   "metadata": {},
   "source": [
    "** Working with the Normal Distribution.**\n",
    "\n",
    "**2\\. $\\mu=32.5$ and $v=0.01$ (1%).**\n",
    "\n",
    "1. Set the random seed.\n",
    "2. Find the function for the normal distribution in the NumPy documentation.\n",
    "3. Generate **25** samples for $x$ from a normal distribution with $\\mu=32.5$ and $v=0.01$ (1%). \n",
    "4. Plot a histogram of the data (change the labels!)\n",
    "5. Calculate the mean value of $x$.\n",
    "6. How far off is the mean you calculate from the $\\mu$ you started off with (in percent)?"
   ]
  },
  {
   "cell_type": "markdown",
   "metadata": {},
   "source": [
    "**Step 1\\.** Set the random seed:"
   ]
  },
  {
   "cell_type": "code",
   "execution_count": 26,
   "metadata": {
    "collapsed": true
   },
   "outputs": [],
   "source": [
    "np.random.seed([12873])"
   ]
  },
  {
   "cell_type": "markdown",
   "metadata": {},
   "source": [
    "**Step 2\\.** Looking in the documentation for NumPy, the function that creates random numbers from the normal distribution is:\n",
    "\n",
    "`normal([loc, scale, size])`\n",
    "\n",
    "where loc = mu, scale = standard deviation."
   ]
  },
  {
   "cell_type": "markdown",
   "metadata": {},
   "source": [
    "**Step 3\\.** Let's make a function to translate mu and v into s (standard deviation) and then use the function to create 25 samples from a normal distribution with the specified parameters. We're going to print out 20 just to get a sense of the data:"
   ]
  },
  {
   "cell_type": "code",
   "execution_count": 27,
   "metadata": {},
   "outputs": [
    {
     "name": "stdout",
     "output_type": "stream",
     "text": [
      "[ 32.59396246  32.55047946  32.74616382  32.10882515  31.89728886\n",
      "  32.4131988   32.22917489  32.37756642  32.04337818  32.81159913\n",
      "  33.21456123  32.96110348  32.62581775  32.97797022  32.71794508\n",
      "  32.53077859  32.58686424  32.28912607  32.54937358  32.18383262]\n"
     ]
    }
   ],
   "source": [
    "def to_std( mu, v):\n",
    "    return mu * v\n",
    "\n",
    "mu = 32.5\n",
    "v = 0.01\n",
    "s = to_std( mu, v)\n",
    "xs = np.random.normal( mu, s, 25)\n",
    "print(xs[0:20])"
   ]
  },
  {
   "cell_type": "markdown",
   "metadata": {},
   "source": [
    "**Step 4\\.** Plot the data we just generated."
   ]
  },
  {
   "cell_type": "code",
   "execution_count": 28,
   "metadata": {},
   "outputs": [
    {
     "data": {
      "image/png": "[encoded data removed]",
      "text/plain": [
       "<matplotlib.figure.Figure at 0x114e71e80>"
      ]
     },
     "metadata": {},
     "output_type": "display_data"
    }
   ],
   "source": [
    "figure = plt.figure(figsize=(10, 6)) # first element is width, second is height.\n",
    "\n",
    "axes = figure.add_subplot(1, 1, 1)\n",
    "\n",
    "axes.hist( xs, normed=True)\n",
    "axes.set_ylabel( \"Density\")\n",
    "axes.set_xlabel( \"X\")\n",
    "axes.set_title( \"Density for Normal Distribution (%0.2f, %0.2f)\" % ( mu, s))\n",
    "\n",
    "plt.show()"
   ]
  },
  {
   "cell_type": "markdown",
   "metadata": {},
   "source": [
    "It looks normally distributed, kind of."
   ]
  },
  {
   "cell_type": "markdown",
   "metadata": {},
   "source": [
    "**Step 5\\.** Print out the mean using `np.mean(xs)`:"
   ]
  },
  {
   "cell_type": "code",
   "execution_count": 29,
   "metadata": {},
   "outputs": [
    {
     "name": "stdout",
     "output_type": "stream",
     "text": [
      "sample mean = 32.5294712002\n"
     ]
    }
   ],
   "source": [
    "x_bar = np.mean( xs)\n",
    "print( \"sample mean =\", x_bar)"
   ]
  },
  {
   "cell_type": "markdown",
   "metadata": {},
   "source": [
    "**Step 6\\.** Calculate the discrepancy:"
   ]
  },
  {
   "cell_type": "code",
   "execution_count": 30,
   "metadata": {},
   "outputs": [
    {
     "name": "stdout",
     "output_type": "stream",
     "text": [
      "discrepancy = 1.00090680616\n"
     ]
    }
   ],
   "source": [
    "print( \"discrepancy =\", x_bar/mu)"
   ]
  },
  {
   "cell_type": "markdown",
   "metadata": {},
   "source": [
    "The discrepancy isn't very much with the amount of variability we used (1% of the mean)."
   ]
  },
  {
   "cell_type": "markdown",
   "metadata": {},
   "source": [
    "Now, one of the problems with this experiment is that we only run it once. We might run it and the mean will only be 1% off and we might run it again (with a different seed) and the results are 10% off."
   ]
  },
  {
   "cell_type": "markdown",
   "metadata": {},
   "source": [
    "**3\\. Rerunning experiments **\n",
    "\n",
    "1. Set the random seed.\n",
    "2. Write a function that generates m samples of `x`, `n` times, calculating the mean for each sample and returns a List of those means. Execute the function with m = 25, n = 100, and the mu and v from Question 2.\n",
    "3. Plot a histogram of the data.\n",
    "4. Calculate the low, high and mean value of the data and discuss."
   ]
  },
  {
   "cell_type": "markdown",
   "metadata": {},
   "source": [
    "**Step 1\\.** Set the random seed:"
   ]
  },
  {
   "cell_type": "code",
   "execution_count": 31,
   "metadata": {
    "collapsed": true
   },
   "outputs": [],
   "source": [
    "np.random.seed([3841765259])"
   ]
  },
  {
   "cell_type": "markdown",
   "metadata": {},
   "source": [
    "**Step 2\\.** Write a function that will run the previous experiment multiple times. mu is the mean, v is the coefficient of variation, m is the number of samples, n is the number of trials."
   ]
  },
  {
   "cell_type": "code",
   "execution_count": 32,
   "metadata": {
    "collapsed": true
   },
   "outputs": [],
   "source": [
    "def repeat_random_normal( mu, v, m, n,):\n",
    "    result = []\n",
    "    for i in range( n):\n",
    "        s = to_std( mu, v)\n",
    "        xs = np.random.normal( mu, s, m)\n",
    "        x_bar = np.mean( xs)\n",
    "        result.append( x_bar)\n",
    "    return result"
   ]
  },
  {
   "cell_type": "code",
   "execution_count": 33,
   "metadata": {
    "collapsed": true
   },
   "outputs": [],
   "source": [
    "mu = 32.5\n",
    "v = 0.01\n",
    "m = 25\n",
    "n = 100\n",
    "\n",
    "s = to_std( mu, v)\n",
    "xs = repeat_random_normal( mu, v, 25, 100)"
   ]
  },
  {
   "cell_type": "markdown",
   "metadata": {},
   "source": [
    "**Step 3\\.** Plot a histogram of the data:"
   ]
  },
  {
   "cell_type": "code",
   "execution_count": 34,
   "metadata": {},
   "outputs": [
    {
     "data": {
      "image/png": "[encoded data removed]",
      "text/plain": [
       "<matplotlib.figure.Figure at 0x1150d0940>"
      ]
     },
     "metadata": {},
     "output_type": "display_data"
    }
   ],
   "source": [
    "figure = plt.figure(figsize=(10, 6)) # first element is width, second is height.\n",
    "\n",
    "axes = figure.add_subplot(1, 1, 1)\n",
    "\n",
    "axes.hist( xs, normed=True)\n",
    "axes.set_ylabel( \"Density\")\n",
    "axes.set_xlabel( \"X\")\n",
    "axes.set_title( \"Density for Mean of %d Samples from a Normal Distribution (%0.2f, %0.2f)\" % ( n, mu, s))\n",
    "\n",
    "plt.show()"
   ]
  },
  {
   "cell_type": "markdown",
   "metadata": {},
   "source": [
    "**Step 4\\.** Calculate the low, high and mean of the data and discuss."
   ]
  },
  {
   "cell_type": "code",
   "execution_count": 35,
   "metadata": {},
   "outputs": [
    {
     "name": "stdout",
     "output_type": "stream",
     "text": [
      "low = 32.3705429016\n",
      "mean = 32.5094918825\n",
      "high = 32.6950846605\n"
     ]
    }
   ],
   "source": [
    "print( \"low =\", np.min( xs))\n",
    "print( \"mean =\", np.mean( xs))\n",
    "print( \"high =\", np.max( xs))"
   ]
  },
  {
   "cell_type": "markdown",
   "metadata": {},
   "source": [
    "Again we can see that the range of means calculated from the data match the actual mean (mu) very well. This depends mostly on the fact that the variability is so low."
   ]
  },
  {
   "cell_type": "markdown",
   "metadata": {},
   "source": [
    "** Other Distributions**\n",
    "\n",
    "As we saw in the chapter \"Mathematical Distributions\", while the normal distribution is parameterized by the mean and variance (standard deviation), other distributions are not. Still, the mean is the first moment and the variance is the second moment of any distribution. Statistical packages and libraries will routinely spit out mean and variance regardless of the actual underlying distribution.\n",
    "\n",
    "Througout the book, I gave formulas for using the Method of Moments to estimate parameter values. Now we're going to put that to good use.\n",
    "\n",
    "**4\\. Exponentional Distribution**\n",
    "\n",
    "Using Wikipedia and the Numpy/Scipy Documentation, generate 25 samples from the Exponential Distribution using the same parameters values at Problem 2. However, you will need to convert the values there into the right parameters for the exponential distribution using the Method of Moments described in the text.\n",
    "\n",
    "Make sure when you calculate the mean from the data, you convert *that* to the rate parameter as well."
   ]
  },
  {
   "cell_type": "markdown",
   "metadata": {
    "collapsed": true
   },
   "source": [
    "**Step 1\\.** Set random seed:"
   ]
  },
  {
   "cell_type": "code",
   "execution_count": 36,
   "metadata": {
    "collapsed": true
   },
   "outputs": [],
   "source": [
    "np.random.seed([13579])"
   ]
  },
  {
   "cell_type": "markdown",
   "metadata": {},
   "source": [
    "** Step 2\\.** Find the function in the documentation:\n",
    "\n",
    "`exponential(scale=1.0, size=None)`\n",
    "\n",
    "The scale is = 1/rate. Since we have the rate as 1/scale, we can use $\\mu$ directly. The standard deviation is not used."
   ]
  },
  {
   "cell_type": "markdown",
   "metadata": {},
   "source": [
    "**Step 3\\.** Generate samples."
   ]
  },
  {
   "cell_type": "code",
   "execution_count": 37,
   "metadata": {
    "collapsed": true
   },
   "outputs": [],
   "source": [
    "mu = 32.5\n",
    "xs = np.random.exponential( mu, 25)"
   ]
  },
  {
   "cell_type": "markdown",
   "metadata": {},
   "source": [
    "** Step 4\\.** Plot the data. Even though we used $\\mu$, we're going to show $\\lambda$:"
   ]
  },
  {
   "cell_type": "code",
   "execution_count": 38,
   "metadata": {},
   "outputs": [
    {
     "data": {
      "image/png": "[encoded data removed]",
      "text/plain": [
       "<matplotlib.figure.Figure at 0x1152c66d8>"
      ]
     },
     "metadata": {},
     "output_type": "display_data"
    }
   ],
   "source": [
    "figure = plt.figure(figsize=(10, 6)) # first element is width, second is height.\n",
    "\n",
    "axes = figure.add_subplot(1, 1, 1)\n",
    "\n",
    "axes.hist( xs, normed=True)\n",
    "axes.set_ylabel( \"Density\")\n",
    "axes.set_xlabel( \"X\")\n",
    "axes.set_title( \"Density for Exponential Distribution (rate=%0.2f)\" % (1/mu))\n",
    "\n",
    "plt.show()"
   ]
  },
  {
   "cell_type": "markdown",
   "metadata": {},
   "source": [
    "** Step 5\\.** Print out the mean (the first moment) although we're really interested in the rate parameter, $\\lambda$:"
   ]
  },
  {
   "cell_type": "code",
   "execution_count": 39,
   "metadata": {},
   "outputs": [
    {
     "name": "stdout",
     "output_type": "stream",
     "text": [
      "mean = 30.4648008294\n",
      "rate = 0.0328247673634\n"
     ]
    }
   ],
   "source": [
    "mean = np.mean( xs)\n",
    "rate = 1/mean\n",
    "\n",
    "print( \"mean =\", mean)\n",
    "print( \"rate =\", rate)"
   ]
  },
  {
   "cell_type": "markdown",
   "metadata": {},
   "source": [
    "**Step 6\\.** How far off is the mean you calculate from the $\\mu$ you started off with (in percent)?"
   ]
  },
  {
   "cell_type": "code",
   "execution_count": 40,
   "metadata": {},
   "outputs": [
    {
     "name": "stdout",
     "output_type": "stream",
     "text": [
      "discrepancy = 0.93737848706\n"
     ]
    }
   ],
   "source": [
    "print( \"discrepancy =\", mean/mu)"
   ]
  },
  {
   "cell_type": "markdown",
   "metadata": {},
   "source": [
    "The discrepancy is about 10% which is quite a bit bigger than when we used the same number to parameterize a normal distribution."
   ]
  },
  {
   "cell_type": "markdown",
   "metadata": {},
   "source": [
    "**5\\. Gamma Distribution**\n",
    "\n",
    "Using Wikipedia and the Numpy Documentation, generate 25 samples from the Gamma Distribution using the same parameters as Problem 2. Use Method of Moments to convert the mean and standard deviation/variance into the parameters of the gamma distribution. (You will have to find it yourself)."
   ]
  },
  {
   "cell_type": "markdown",
   "metadata": {},
   "source": [
    "**Step 1\\.** Set random seed."
   ]
  },
  {
   "cell_type": "code",
   "execution_count": 41,
   "metadata": {
    "collapsed": true
   },
   "outputs": [],
   "source": [
    "np.random.seed([683920])"
   ]
  },
  {
   "cell_type": "markdown",
   "metadata": {},
   "source": [
    "** Step 2\\.** Find the function in the documentation. \n",
    "\n",
    "The function from the documentation is here:\n",
    "\n",
    "`gamma(shape, scale=1.0, size=None)¶`\n",
    "\n",
    "I found the formula for the Method of Moments estimators [here](http://www.itl.nist.gov/div898/handbook/eda/section3/eda366b.htm). They are:\n",
    "\n",
    "$$\\gamma = (\\frac{\\sigma}{\\mu})^2$$\n",
    "\n",
    "$$\\beta = \\frac{\\sigma^2}{\\mu}$$\n",
    "\n",
    "The description for the Gamma Distribution defines the parameters $\\gamma$ as the shape parameter and $\\beta$ as the scale parameter."
   ]
  },
  {
   "cell_type": "markdown",
   "metadata": {},
   "source": [
    "**Step 3\\.** Generate samples."
   ]
  },
  {
   "cell_type": "code",
   "execution_count": 42,
   "metadata": {},
   "outputs": [
    {
     "name": "stdout",
     "output_type": "stream",
     "text": [
      "[ 32.09316514  32.54489771  32.3690439   32.26440996  32.97763059\n",
      "  32.44208009  32.92362969  32.39748714  32.80287017  33.1303675\n",
      "  32.56584326  32.36231413  32.52895262  33.17594745  32.26200196\n",
      "  32.33554741  32.31893531  32.15532476  32.69844167  32.19313578]\n"
     ]
    }
   ],
   "source": [
    "mu = 32.5\n",
    "v = 0.01\n",
    "s = to_std( mu, v)\n",
    "gamma = (mu/s)**2\n",
    "beta = (s**2/mu)\n",
    "\n",
    "xs = np.random.gamma( gamma, beta, 25)\n",
    "print( xs[0:20])"
   ]
  },
  {
   "cell_type": "markdown",
   "metadata": {},
   "source": [
    "** Step 4\\.** Plot the data."
   ]
  },
  {
   "cell_type": "code",
   "execution_count": 43,
   "metadata": {},
   "outputs": [
    {
     "data": {
      "image/png": "[encoded data removed]",
      "text/plain": [
       "<matplotlib.figure.Figure at 0x115471e48>"
      ]
     },
     "metadata": {},
     "output_type": "display_data"
    }
   ],
   "source": [
    "figure = plt.figure(figsize=(10, 6)) # first element is width, second is height.\n",
    "\n",
    "axes = figure.add_subplot(1, 1, 1)\n",
    "\n",
    "axes.hist( xs, normed=True)\n",
    "axes.set_ylabel( \"Density\")\n",
    "axes.set_xlabel( \"X\")\n",
    "axes.set_title( \"Density for Gamma Distribution (shape=%0.2f, scale=%0.2f)\" % (gamma, beta))\n",
    "\n",
    "plt.show()"
   ]
  },
  {
   "cell_type": "markdown",
   "metadata": {},
   "source": [
    "** Step 5\\.** Print out the mean."
   ]
  },
  {
   "cell_type": "code",
   "execution_count": 44,
   "metadata": {},
   "outputs": [
    {
     "name": "stdout",
     "output_type": "stream",
     "text": [
      "gamma = 11652.2228065\n",
      "beta = 0.00278858503099\n"
     ]
    }
   ],
   "source": [
    "mean = np.mean( xs)\n",
    "s_est = np.std( xs)\n",
    "\n",
    "gamma_est = (mean/s_est)**2\n",
    "beta_est = (s_est**2/mean)\n",
    "\n",
    "print( \"gamma =\", gamma_est)\n",
    "print( \"beta =\", beta_est)"
   ]
  },
  {
   "cell_type": "markdown",
   "metadata": {},
   "source": [
    "**Step 6\\.** How far off is the mean you calculate from the $\\mu$ you started off with (in percent)?"
   ]
  },
  {
   "cell_type": "code",
   "execution_count": 45,
   "metadata": {},
   "outputs": [
    {
     "name": "stdout",
     "output_type": "stream",
     "text": [
      "gamma discrepancy (est/actual) = 1.16522228065\n",
      "beta discrepancy (est/actual) = 0.858026163382\n"
     ]
    }
   ],
   "source": [
    "print( \"gamma discrepancy (est/actual) =\", gamma_est/gamma)\n",
    "print( \"beta discrepancy (est/actual) =\", beta_est/beta)"
   ]
  },
  {
   "cell_type": "markdown",
   "metadata": {},
   "source": [
    "We're off by quite a bit. The gamma estimate is almost 17% larger and the beta is almost 15% smaller."
   ]
  },
  {
   "cell_type": "markdown",
   "metadata": {},
   "source": [
    "## Lab Discussion"
   ]
  },
  {
   "cell_type": "markdown",
   "metadata": {},
   "source": [
    "**6\\. From a Systems/Complexity Theory perspective, how might we interpret the variability of a factor like `x`? What might it mean if the variability is low or high? (Why doesn't x just have one value...why does it vary at all?)**"
   ]
  },
  {
   "cell_type": "markdown",
   "metadata": {
    "collapsed": true
   },
   "source": [
    "From Systems Theory (especially Causal Loop Diagrams), we know that we can build pretty complicated models of how the variables in our domain interact both positively and negatively and how they may balance or reinforce each other. We concede that most of the time, we simply cannot get all the relevant data for the domain we want to understand in order to solve whatever our problem is (remember the \"CoNVO\").\n",
    "\n",
    "Now, each observation of $x$ may either be an observation of the *single* system at different *times* (like looking at the economy each month) or observations of many copies of the same system at the same time (like looking at a bunch of people). In either case, the system will be in different states. In the first case because maybe the economy grew, there was a technological innovation (if we modeled it), or there was a natural disaster. In the second case, because all the different copies of the system have different histories and environments. Not to harp on height, but each person may be a different height because of genetics, gene expression, and access to food and types of food throughout their lifetimes so far, and then their age (because we--hopefully--grow as we grow up and--unfortunately--shrink when we age).\n",
    "\n",
    "Now the *dispersion* may be due to a wide number of factors. We are trying to model a complex system with a single distribution. There may be many factors with small effects that cause the dispersion to be large or there may be a few factors with large effects that cause the dispersion to be large.\n",
    "\n",
    "Sometimes this is all we can do (a simple Statistical Model) but sometimes we can build better models (which we'll do later in the semester)."
   ]
  },
  {
   "cell_type": "markdown",
   "metadata": {},
   "source": [
    "## On Your Own\n",
    "\n",
    "**Each Lab will include an \"On Your Own\" Section. You will get the most out of the class and understand the concepts better if you attempt to do some of the \"On Your Own\" problems. Although they are not required, concepts they embody may find their way into the Problem Sets.**\n",
    "\n",
    "There is a ton of exploration you can do on your own, just with the normal distribution:\n",
    "\n",
    "1. Using the code from Problem 2, increase the coefficient of variation to the extent that your estimate of the mean is at least 10% off.\n",
    "2. Now increase the number samples generated using that parameterization, until the estimate of the mean is no more than 1% off.\n",
    "3. Explore other distributions, learn where they generally show up, find the Method of Moments estimators for their parameters.\n",
    "4. Combine variables. For example, imagine a system where have two related variables, $x_1$ and $x_2$, $x_1$ is generated from a Bernoulli distribution and $x_2$ is generated from a normal distribution but with different parameters depending on the value of $x_1$. Think about the two means $\\mu_1$ and $\\mu_2$ and the two coefficients of variation $v_1$ and $v_2$, starting with values of the mean close together and with large variance, how would those parameters have to change before you could see that there were two distinct distribution?\n",
    "\n"
   ]
  }
 ],
 "metadata": {
  "kernelspec": {
   "display_name": "Python 3",
   "language": "python",
   "name": "python3"
  },
  "language_info": {
   "codemirror_mode": {
    "name": "ipython",
    "version": 3
   },
   "file_extension": ".py",
   "mimetype": "text/x-python",
   "name": "python",
   "nbconvert_exporter": "python",
   "pygments_lexer": "ipython3",
   "version": "3.6.1"
  }
 },
 "nbformat": 4,
 "nbformat_minor": 1
}
