{
 "cells": [
  {
   "cell_type": "markdown",
   "metadata": {},
   "source": [
    "# Module 5 Lab - Data 101\n",
    "\n",
    "## Directions\n",
    "1. Show all work/steps/calculations. If it is easier to write it out by hand, do so and submit a scanned PDF in addition to this notebook. Otherwise, generate a Markdown cell for each answer.\n",
    "2. You must submit to **two** places by the deadline:\n",
    "    1. In the Lab section of the Course Module where you downloaded this file from, and\n",
    "    2. In your Lab Discussion Group, in the forum for the appropriate Module.\n",
    "    \n",
    "    (For this assignment, zip all 3 files: `Lab - Module 5.ipynb`, `hurricanes.py` and `hurricane.db` up before submitting to either place).\n",
    "    \n",
    "3. You may use any core Python libraries or Numpy/Scipy. **Additionally, code from the Module notebooks and lectures is fair to use and modify.** You may also consult Stackoverflow (SO). If you use something from SO, please place a comment with the URL to document the code."
   ]
  },
  {
   "cell_type": "markdown",
   "metadata": {},
   "source": [
    "## Getting and Storing Data\n",
    "\n",
    "This lab is a test of your data munging skills. There is an individual part (that you should do by Thursday) and a group part although everything is up for discussion.\n",
    "\n",
    "### Basic Outline\n",
    "\n",
    "1. Using curl or wget obtain a local copy of the following web page: Atlantic Hurricane Season (https://en.wikipedia.org/wiki/Atlantic_hurricane_season).\n",
    "2. Using Beautiful Soup 4 and Python, parse the HTML file into a useable dataset.\n",
    "3. Write this data set to a SQLite3 database called `hurricanes.db`\n",
    "4. Run some queries against the data set.\n",
    "\n",
    "### Details\n",
    "\n",
    "The data is contained in many separate tables. The challenge is to write a general table parsing function and then locate each table and apply the function to it. You only need to get the data from the tables starting at 1850s. Not all years have the same data. You only need to save the following columns. The name is parentheses is the name the column should have in the database table.\n",
    "\n",
    "Year (year)\n",
    "Number of tropical storms (tropical_storms)\n",
    "Number of hurricanes (hurricanes)\n",
    "Number of Major Hurricanes (major_hurricanes)\n",
    "Deaths (deaths)\n",
    "Damage (damage)\n",
    "Notes (notes)\n",
    "\n",
    "Note that \"Damage\" doesn't start until 1900s and \"Notes\" was added in 1880s. \"Strongest Storm\" should be added to the Notes column (even in years that didn't have Notes) as should \"Retired Storms\". The name of the database table should be atlantic_hurricanes. The name of the table file (SQLite3 uses a file) should be hurricanes.db (who knows...you might need to add Pacific storms someday).\n",
    "\n",
    "There are a number of parsing problems which will most likely require regular expressions. First, the Deaths column has numbers that include commas and entries that are not numbers (Unknown and None). How should you code Unknown and None so that answers are not misleading but queries are still fairly straightforward to write?\n",
    "\n",
    "Similarly, Damages has numbers with commas, currency signs and different amount words (millions, billions). How will you normalize all of these so that a query can compare them?\n",
    "\n",
    "Additionally, the way that Tropical Storms are accounted for seems to change mysteriously. Looking over the data, it's not immediately apparent when the interpretation should change. 1850s, 1860s definitely but 1870s? Not sure. It could just be a coincidence that there were never more hurricanes than tropical storms which seems to be the norm but see, for example, 1975. Welcome to Data Science!\n",
    "\n",
    "You should put your parsing code in `hurricanes.py`."
   ]
  },
  {
   "cell_type": "markdown",
   "metadata": {},
   "source": [
    "### Setup\n",
    "\n",
    "The first thing to do is to download the page."
   ]
  },
  {
   "cell_type": "code",
   "execution_count": 1,
   "metadata": {
    "collapsed": false
   },
   "outputs": [
    {
     "name": "stdout",
     "output_type": "stream",
     "text": [
      "  % Total    % Received % Xferd  Average Speed   Time    Time     Time  Current\n",
      "                                 Dload  Upload   Total   Spent    Left  Speed\n",
      "100  146k  100  146k    0     0   125k      0  0:00:01  0:00:01 --:--:--  128k\n"
     ]
    }
   ],
   "source": [
    "!curl https://en.wikipedia.org/wiki/Atlantic_hurricane_season -o Atlantic_hurricane_season.html"
   ]
  },
  {
   "cell_type": "markdown",
   "metadata": {},
   "source": [
    "Next we will run our parsing code."
   ]
  },
  {
   "cell_type": "code",
   "execution_count": 2,
   "metadata": {
    "collapsed": false
   },
   "outputs": [
    {
     "name": "stdout",
     "output_type": "stream",
     "text": [
      "Completed creating table 'atlantic_hurricanes' in database 'hurricanes.db'.\r\n"
     ]
    }
   ],
   "source": [
    "!python hurricanes.py"
   ]
  },
  {
   "cell_type": "markdown",
   "metadata": {},
   "source": [
    "And finally, we import our modules and load our database file."
   ]
  },
  {
   "cell_type": "code",
   "execution_count": 3,
   "metadata": {
    "collapsed": true
   },
   "outputs": [],
   "source": [
    "from __future__ import division\n",
    "import pandas as pd\n",
    "import sqlite3\n",
    "connection = sqlite3.connect('hurricanes.db')"
   ]
  },
  {
   "cell_type": "markdown",
   "metadata": {},
   "source": [
    "ETL can be a messy business, so it's useful to frequently preview your data.  While the lab directions instruct us to use the `sqlite3` module for our queries directly, we can also use `pandas` to query the database and render a preview of the returned table in HTML."
   ]
  },
  {
   "cell_type": "code",
   "execution_count": 4,
   "metadata": {
    "collapsed": false
   },
   "outputs": [
    {
     "data": {
      "text/html": [
       "<div>\n",
       "<table border=\"1\" class=\"dataframe\">\n",
       "  <thead>\n",
       "    <tr style=\"text-align: right;\">\n",
       "      <th></th>\n",
       "      <th>index</th>\n",
       "      <th>damage</th>\n",
       "      <th>deaths</th>\n",
       "      <th>hurricanes</th>\n",
       "      <th>major_hurricanes</th>\n",
       "      <th>notes</th>\n",
       "      <th>tropical_storms</th>\n",
       "      <th>year</th>\n",
       "    </tr>\n",
       "  </thead>\n",
       "  <tbody>\n",
       "    <tr>\n",
       "      <th>0</th>\n",
       "      <td>8</td>\n",
       "      <td>1.220000e+10</td>\n",
       "      <td>12000</td>\n",
       "      <td>10</td>\n",
       "      <td>3</td>\n",
       "      <td>Four simultaneous hurricanes on September 26, ...</td>\n",
       "      <td>14</td>\n",
       "      <td>1998</td>\n",
       "    </tr>\n",
       "    <tr>\n",
       "      <th>1</th>\n",
       "      <td>4</td>\n",
       "      <td>1.970000e+09</td>\n",
       "      <td>8260</td>\n",
       "      <td>4</td>\n",
       "      <td>2</td>\n",
       "      <td>Includes four subtropical storms\\nFifi was the...</td>\n",
       "      <td>11</td>\n",
       "      <td>1974</td>\n",
       "    </tr>\n",
       "    <tr>\n",
       "      <th>2</th>\n",
       "      <td>0</td>\n",
       "      <td>6.000000e+07</td>\n",
       "      <td>8000</td>\n",
       "      <td>3</td>\n",
       "      <td>2</td>\n",
       "      <td>The Galveston hurricane was the deadliest disa...</td>\n",
       "      <td>7</td>\n",
       "      <td>1900</td>\n",
       "    </tr>\n",
       "    <tr>\n",
       "      <th>3</th>\n",
       "      <td>0</td>\n",
       "      <td>5.000000e+07</td>\n",
       "      <td>8000</td>\n",
       "      <td>2</td>\n",
       "      <td>2</td>\n",
       "      <td>The fifth deadliest hurricane on record\\nStron...</td>\n",
       "      <td>3</td>\n",
       "      <td>1930</td>\n",
       "    </tr>\n",
       "    <tr>\n",
       "      <th>4</th>\n",
       "      <td>3</td>\n",
       "      <td>5.890000e+08</td>\n",
       "      <td>7225</td>\n",
       "      <td>7</td>\n",
       "      <td>2</td>\n",
       "      <td>The sixth deadliest hurricane on record\\nStron...</td>\n",
       "      <td>9</td>\n",
       "      <td>1963</td>\n",
       "    </tr>\n",
       "  </tbody>\n",
       "</table>\n",
       "</div>"
      ],
      "text/plain": [
       "   index        damage  deaths  hurricanes  major_hurricanes  \\\n",
       "0      8  1.220000e+10   12000          10                 3   \n",
       "1      4  1.970000e+09    8260           4                 2   \n",
       "2      0  6.000000e+07    8000           3                 2   \n",
       "3      0  5.000000e+07    8000           2                 2   \n",
       "4      3  5.890000e+08    7225           7                 2   \n",
       "\n",
       "                                               notes  tropical_storms  year  \n",
       "0  Four simultaneous hurricanes on September 26, ...               14  1998  \n",
       "1  Includes four subtropical storms\\nFifi was the...               11  1974  \n",
       "2  The Galveston hurricane was the deadliest disa...                7  1900  \n",
       "3  The fifth deadliest hurricane on record\\nStron...                3  1930  \n",
       "4  The sixth deadliest hurricane on record\\nStron...                9  1963  "
      ]
     },
     "execution_count": 4,
     "metadata": {},
     "output_type": "execute_result"
    }
   ],
   "source": [
    "query = '''SELECT * FROM atlantic_hurricanes ORDER BY deaths DESC '''\n",
    "pd.read_sql(query,connection).head()"
   ]
  },
  {
   "cell_type": "markdown",
   "metadata": {},
   "source": [
    "### Queries\n",
    "\n",
    "When you are done, you must write and execute 5 queries against your database. Those queries should be run from this notebook. Find the documentation for using SQLite3 from Python (the library is already included).\n",
    "\n",
    "1\\. What year had the most tropical storms?"
   ]
  },
  {
   "cell_type": "markdown",
   "metadata": {},
   "source": [
    "A good strategy for this type of query is to rank the data by our criteria of interest and select the top hit.  We can achieve this with the use of `ORDER BY` to sort the data, and appending `LIMIT 1` to our selection.  Alternatively, we could use the `.fetchone()` method on our cursor object to return the top hit of the ordered table, however we will see in the next question why this isn't necessarily best practice."
   ]
  },
  {
   "cell_type": "code",
   "execution_count": 5,
   "metadata": {
    "collapsed": false
   },
   "outputs": [
    {
     "name": "stdout",
     "output_type": "stream",
     "text": [
      "2005 had the most storms with 28\n"
     ]
    }
   ],
   "source": [
    "cursor = connection.cursor()\n",
    "query = '''SELECT year, tropical_storms \n",
    "      FROM atlantic_hurricanes \n",
    "      ORDER BY tropical_storms DESC\n",
    "      LIMIT 1'''\n",
    "cursor.execute(query)          \n",
    "year, tropical_storms = cursor.fetchone()\n",
    "print \"{0} had the most storms with {1}\".format(year, tropical_storms)\n",
    "cursor.close()"
   ]
  },
  {
   "cell_type": "markdown",
   "metadata": {},
   "source": [
    "2\\. What year had the most major hurricanes?"
   ]
  },
  {
   "cell_type": "markdown",
   "metadata": {},
   "source": [
    "Now we ask ourselves what year had the most major hurricanes.  Presumably we should be able to just modify our query from question #1 like so:"
   ]
  },
  {
   "cell_type": "code",
   "execution_count": 6,
   "metadata": {
    "collapsed": false
   },
   "outputs": [
    {
     "name": "stdout",
     "output_type": "stream",
     "text": [
      "1961 had the most major hurricanes with 7\n"
     ]
    }
   ],
   "source": [
    "cursor = connection.cursor()\n",
    "query = '''SELECT year, major_hurricanes \n",
    "      FROM atlantic_hurricanes \n",
    "      ORDER BY major_hurricanes DESC\n",
    "      LIMIT 1'''\n",
    "cursor.execute(query)          \n",
    "year, major_hurricanes = cursor.fetchone()\n",
    "print \"{0} had the most major hurricanes with {1}\".format(year, major_hurricanes)\n",
    "cursor.close()"
   ]
  },
  {
   "cell_type": "markdown",
   "metadata": {},
   "source": [
    "Great.  1961 had the most major hurricanes.  Time to move on to the next question...\n",
    "\n",
    "Except that 1961 isn't the only year that had 7 hurricanes.  Let's preview our query in pandas, except this time let's relax the `LIMIT 1` constraint. "
   ]
  },
  {
   "cell_type": "code",
   "execution_count": 7,
   "metadata": {
    "collapsed": false
   },
   "outputs": [
    {
     "data": {
      "text/html": [
       "<div>\n",
       "<table border=\"1\" class=\"dataframe\">\n",
       "  <thead>\n",
       "    <tr style=\"text-align: right;\">\n",
       "      <th></th>\n",
       "      <th>year</th>\n",
       "      <th>major_hurricanes</th>\n",
       "    </tr>\n",
       "  </thead>\n",
       "  <tbody>\n",
       "    <tr>\n",
       "      <th>0</th>\n",
       "      <td>1961</td>\n",
       "      <td>7</td>\n",
       "    </tr>\n",
       "    <tr>\n",
       "      <th>1</th>\n",
       "      <td>2005</td>\n",
       "      <td>7</td>\n",
       "    </tr>\n",
       "    <tr>\n",
       "      <th>2</th>\n",
       "      <td>1926</td>\n",
       "      <td>6</td>\n",
       "    </tr>\n",
       "    <tr>\n",
       "      <th>3</th>\n",
       "      <td>1933</td>\n",
       "      <td>6</td>\n",
       "    </tr>\n",
       "    <tr>\n",
       "      <th>4</th>\n",
       "      <td>1950</td>\n",
       "      <td>6</td>\n",
       "    </tr>\n",
       "  </tbody>\n",
       "</table>\n",
       "</div>"
      ],
      "text/plain": [
       "   year  major_hurricanes\n",
       "0  1961                 7\n",
       "1  2005                 7\n",
       "2  1926                 6\n",
       "3  1933                 6\n",
       "4  1950                 6"
      ]
     },
     "execution_count": 7,
     "metadata": {},
     "output_type": "execute_result"
    }
   ],
   "source": [
    "query = '''SELECT year, major_hurricanes \n",
    "      FROM atlantic_hurricanes \n",
    "      ORDER BY major_hurricanes DESC'''\n",
    "pd.read_sql(query,connection).head()"
   ]
  },
  {
   "cell_type": "markdown",
   "metadata": {},
   "source": [
    "Here we see that both 1961 and 2005 had 7 major hurricanes, and that our 'select single top hit' strategy has failed us.  With ETL it is always important to check your assumptions, and anticipate conditions under which your assumptions might fail.  \n",
    "\n",
    "Let's take another look at that query, this time adding a `WHERE` condition to select only those rows whose value for `major_hurricanes` is equal to the maximum value."
   ]
  },
  {
   "cell_type": "code",
   "execution_count": 8,
   "metadata": {
    "collapsed": false
   },
   "outputs": [
    {
     "data": {
      "text/html": [
       "<div>\n",
       "<table border=\"1\" class=\"dataframe\">\n",
       "  <thead>\n",
       "    <tr style=\"text-align: right;\">\n",
       "      <th></th>\n",
       "      <th>year</th>\n",
       "      <th>major_hurricanes</th>\n",
       "    </tr>\n",
       "  </thead>\n",
       "  <tbody>\n",
       "    <tr>\n",
       "      <th>0</th>\n",
       "      <td>1961</td>\n",
       "      <td>7</td>\n",
       "    </tr>\n",
       "    <tr>\n",
       "      <th>1</th>\n",
       "      <td>2005</td>\n",
       "      <td>7</td>\n",
       "    </tr>\n",
       "  </tbody>\n",
       "</table>\n",
       "</div>"
      ],
      "text/plain": [
       "   year  major_hurricanes\n",
       "0  1961                 7\n",
       "1  2005                 7"
      ]
     },
     "execution_count": 8,
     "metadata": {},
     "output_type": "execute_result"
    }
   ],
   "source": [
    "query = '''SELECT year, major_hurricanes\n",
    "    FROM atlantic_hurricanes\n",
    "    WHERE major_hurricanes = (SELECT MAX(major_hurricanes) FROM atlantic_hurricanes);'''\n",
    "pd.read_sql(query,connection).head()"
   ]
  },
  {
   "cell_type": "markdown",
   "metadata": {},
   "source": [
    "Of course `cursor.fetchone()` will do us no good if we're now expecting multiple rows to be returned.  With a slight modification to our previous reporting code, we can now accommodate the possibility of multiple max hits."
   ]
  },
  {
   "cell_type": "code",
   "execution_count": 9,
   "metadata": {
    "collapsed": false
   },
   "outputs": [
    {
     "name": "stdout",
     "output_type": "stream",
     "text": [
      "1961 had the most major hurricanes with 7\n",
      "2005 had the most major hurricanes with 7\n"
     ]
    }
   ],
   "source": [
    "cursor = connection.cursor()\n",
    "query = '''SELECT year, major_hurricanes\n",
    "    FROM atlantic_hurricanes\n",
    "    WHERE major_hurricanes = (SELECT MAX(major_hurricanes) FROM atlantic_hurricanes);'''\n",
    "cursor.execute(query)          \n",
    "\n",
    "for year, major_hurricanes in cursor.fetchall():\n",
    "    print \"{0} had the most major hurricanes with {1}\".format(year, major_hurricanes)\n",
    "cursor.close()"
   ]
  },
  {
   "cell_type": "markdown",
   "metadata": {},
   "source": [
    "3\\. What year had the most deaths?"
   ]
  },
  {
   "cell_type": "markdown",
   "metadata": {},
   "source": [
    "Realistically, the previous lesson is only applicable when there is a high probability of repeated values in the observed data; such as with the case of small integers and measurements of marginal difference.  For very large numbers there is a much lower probability of duplicate values, so this type of defensive coding may not be as necessary.  Higher frequency count data such as deaths is an example.  Regardless, we can reuse our previous query:"
   ]
  },
  {
   "cell_type": "code",
   "execution_count": 10,
   "metadata": {
    "collapsed": false
   },
   "outputs": [
    {
     "name": "stdout",
     "output_type": "stream",
     "text": [
      "1998 had the most deaths with 12000\n"
     ]
    }
   ],
   "source": [
    "cursor = connection.cursor()\n",
    "# Year with the most deaths\n",
    "query = '''SELECT year, deaths\n",
    "      FROM atlantic_hurricanes\n",
    "      WHERE deaths = (SELECT MAX(deaths) FROM atlantic_hurricanes);'''\n",
    "cursor.execute(query)\n",
    "for year, deaths in cursor.fetchall():\n",
    "    print \"{0} had the most deaths with {1}\".format(year, int(deaths))\n",
    "cursor.close()"
   ]
  },
  {
   "cell_type": "markdown",
   "metadata": {},
   "source": [
    "4\\. What year had the most damage (not inflation adjusted)?"
   ]
  },
  {
   "cell_type": "markdown",
   "metadata": {},
   "source": [
    "For this question we can simply take the top hit, but we'll need to use some `.format` fanciness to express the value in terms of dollars."
   ]
  },
  {
   "cell_type": "code",
   "execution_count": 11,
   "metadata": {
    "collapsed": false
   },
   "outputs": [
    {
     "name": "stdout",
     "output_type": "stream",
     "text": [
      "2005 had the most damage at $159,000,000,000.00 USD.\n"
     ]
    }
   ],
   "source": [
    "cursor = connection.cursor()\n",
    "query = '''SELECT year, damage\n",
    "      FROM atlantic_hurricanes\n",
    "      ORDER BY damage DESC'''\n",
    "cursor.execute(query)\n",
    "\n",
    "year, damage = cursor.fetchone()\n",
    "print \"{0} had the most damage at ${1:,.2F} USD.\".format(year, damage)"
   ]
  },
  {
   "cell_type": "markdown",
   "metadata": {},
   "source": [
    "5\\. What year had the highest proportion of tropical storms turn into major hurricanes?"
   ]
  },
  {
   "cell_type": "markdown",
   "metadata": {},
   "source": [
    "For this question we can do an in-database calculation to determine the conversion rate of tropical storms to major hurricanes."
   ]
  },
  {
   "cell_type": "code",
   "execution_count": 12,
   "metadata": {
    "collapsed": false
   },
   "outputs": [
    {
     "data": {
      "text/html": [
       "<div>\n",
       "<table border=\"1\" class=\"dataframe\">\n",
       "  <thead>\n",
       "    <tr style=\"text-align: right;\">\n",
       "      <th></th>\n",
       "      <th>year</th>\n",
       "      <th>tropical_storms</th>\n",
       "      <th>major_hurricanes</th>\n",
       "      <th>conversion_rate</th>\n",
       "    </tr>\n",
       "  </thead>\n",
       "  <tbody>\n",
       "    <tr>\n",
       "      <th>0</th>\n",
       "      <td>1915</td>\n",
       "      <td>6</td>\n",
       "      <td>4</td>\n",
       "      <td>0.666667</td>\n",
       "    </tr>\n",
       "    <tr>\n",
       "      <th>1</th>\n",
       "      <td>1930</td>\n",
       "      <td>3</td>\n",
       "      <td>2</td>\n",
       "      <td>0.666667</td>\n",
       "    </tr>\n",
       "    <tr>\n",
       "      <th>2</th>\n",
       "      <td>1961</td>\n",
       "      <td>11</td>\n",
       "      <td>7</td>\n",
       "      <td>0.636364</td>\n",
       "    </tr>\n",
       "    <tr>\n",
       "      <th>3</th>\n",
       "      <td>1894</td>\n",
       "      <td>7</td>\n",
       "      <td>4</td>\n",
       "      <td>0.571429</td>\n",
       "    </tr>\n",
       "    <tr>\n",
       "      <th>4</th>\n",
       "      <td>1926</td>\n",
       "      <td>11</td>\n",
       "      <td>6</td>\n",
       "      <td>0.545455</td>\n",
       "    </tr>\n",
       "  </tbody>\n",
       "</table>\n",
       "</div>"
      ],
      "text/plain": [
       "   year  tropical_storms  major_hurricanes  conversion_rate\n",
       "0  1915                6                 4         0.666667\n",
       "1  1930                3                 2         0.666667\n",
       "2  1961               11                 7         0.636364\n",
       "3  1894                7                 4         0.571429\n",
       "4  1926               11                 6         0.545455"
      ]
     },
     "execution_count": 12,
     "metadata": {},
     "output_type": "execute_result"
    }
   ],
   "source": [
    "cursor = connection.cursor()\n",
    "query = '''SELECT year,\n",
    "                  tropical_storms,\n",
    "                  major_hurricanes,\n",
    "                  CAST(major_hurricanes AS FLOAT)/CAST(tropical_storms AS FLOAT) 'conversion_rate'\n",
    "            FROM atlantic_hurricanes\n",
    "            ORDER by conversion_rate DESC'''\n",
    "\n",
    "pd.read_sql(query,connection).head()"
   ]
  },
  {
   "cell_type": "markdown",
   "metadata": {},
   "source": [
    "Seeing that we indeed have multiple values for conversion rate, let's put everything together to generate the following query and report:"
   ]
  },
  {
   "cell_type": "code",
   "execution_count": 13,
   "metadata": {
    "collapsed": false
   },
   "outputs": [
    {
     "data": {
      "text/html": [
       "<div>\n",
       "<table border=\"1\" class=\"dataframe\">\n",
       "  <thead>\n",
       "    <tr style=\"text-align: right;\">\n",
       "      <th></th>\n",
       "      <th>year</th>\n",
       "      <th>tropical_storms</th>\n",
       "      <th>major_hurricanes</th>\n",
       "      <th>conversion_rate</th>\n",
       "    </tr>\n",
       "  </thead>\n",
       "  <tbody>\n",
       "    <tr>\n",
       "      <th>0</th>\n",
       "      <td>1915</td>\n",
       "      <td>6</td>\n",
       "      <td>4</td>\n",
       "      <td>0.666667</td>\n",
       "    </tr>\n",
       "    <tr>\n",
       "      <th>1</th>\n",
       "      <td>1930</td>\n",
       "      <td>3</td>\n",
       "      <td>2</td>\n",
       "      <td>0.666667</td>\n",
       "    </tr>\n",
       "  </tbody>\n",
       "</table>\n",
       "</div>"
      ],
      "text/plain": [
       "   year  tropical_storms  major_hurricanes  conversion_rate\n",
       "0  1915                6                 4         0.666667\n",
       "1  1930                3                 2         0.666667"
      ]
     },
     "execution_count": 13,
     "metadata": {},
     "output_type": "execute_result"
    }
   ],
   "source": [
    "cursor = connection.cursor()\n",
    "query = '''SELECT year,\n",
    "                  tropical_storms,\n",
    "                  major_hurricanes,\n",
    "                  CAST(major_hurricanes AS FLOAT)/CAST(tropical_storms AS FLOAT) 'conversion_rate'\n",
    "            FROM atlantic_hurricanes\n",
    "            WHERE CAST(major_hurricanes AS FLOAT)/CAST(tropical_storms AS FLOAT) = (SELECT MAX(CAST(major_hurricanes AS FLOAT)/CAST(tropical_storms AS FLOAT)) FROM atlantic_hurricanes);'''\n",
    "\n",
    "pd.read_sql(query,connection).head()"
   ]
  },
  {
   "cell_type": "code",
   "execution_count": 14,
   "metadata": {
    "collapsed": false
   },
   "outputs": [
    {
     "name": "stdout",
     "output_type": "stream",
     "text": [
      "Years having the highest proportion:\n",
      "Year 1915 had the highest proportion (66.6666666667%) of major hurricanes (4) to tropical storms (6).\n",
      "Year 1930 had the highest proportion (66.6666666667%) of major hurricanes (2) to tropical storms (3).\n"
     ]
    }
   ],
   "source": [
    "print \"Years having the highest proportion:\"\n",
    "cursor.execute(query)\n",
    "for year, tropical_storms, major_hurricanes, proportion in cursor.fetchall():\n",
    "      print \"Year {0} had the highest proportion ({1}%) of major hurricanes ({2}) to tropical storms ({3}).\".\\\n",
    "            format(year, proportion * 100, major_hurricanes, tropical_storms)"
   ]
  },
  {
   "cell_type": "markdown",
   "metadata": {},
   "source": [
    "One final parting thought for this lab is to consider what would happen if you re-ran all of the ETL code a few years from now, or perhaps after some dedicated Wikipedia contributor filled in missing data.  It's rarely sufficient to write your ETL for just the data on hand.  ETL may seem like a straight forward engineering component to the data science process, but statistics are never too far away and it's important to keep in mind the distribution and other parameters of the data your are collecting."
   ]
  },
  {
   "cell_type": "markdown",
   "metadata": {},
   "source": [
    "6\\. Create a query of your own to have your group answer. Post it along with your file (so people don't have to download your zip file to read it)."
   ]
  },
  {
   "cell_type": "code",
   "execution_count": null,
   "metadata": {
    "collapsed": true
   },
   "outputs": [],
   "source": []
  },
  {
   "cell_type": "markdown",
   "metadata": {},
   "source": []
  },
  {
   "cell_type": "markdown",
   "metadata": {},
   "source": [
    "## Group Discussion\n",
    "\n",
    "1. Answer one member's #6 query.\n",
    "2. What is the granularity of this data? (Are the rows the most specific observation possible?)\n",
    "3. Each section links to details about each hurrican season. Review each Season's page and discussion strategies for extracting the information for every hurricane."
   ]
  }
 ],
 "metadata": {
  "anaconda-cloud": {},
  "kernelspec": {
   "display_name": "Python [Root]",
   "language": "python",
   "name": "Python [Root]"
  },
  "language_info": {
   "codemirror_mode": {
    "name": "ipython",
    "version": 2
   },
   "file_extension": ".py",
   "mimetype": "text/x-python",
   "name": "python",
   "nbconvert_exporter": "python",
   "pygments_lexer": "ipython2",
   "version": "2.7.12"
  }
 },
 "nbformat": 4,
 "nbformat_minor": 0
}
